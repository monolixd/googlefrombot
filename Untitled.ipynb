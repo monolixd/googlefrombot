{
 "cells": [
  {
   "cell_type": "code",
   "execution_count": 1,
   "id": "b51b289c-a81f-4526-a44b-b2b0c8cedba4",
   "metadata": {},
   "outputs": [
    {
     "name": "stdout",
     "output_type": "stream",
     "text": [
      "Requirement already satisfied: selenium in c:\\users\\user\\anaconda3\\lib\\site-packages (4.29.0)\n",
      "Requirement already satisfied: urllib3<3,>=1.26 in c:\\users\\user\\anaconda3\\lib\\site-packages (from urllib3[socks]<3,>=1.26->selenium) (2.2.3)\n",
      "Requirement already satisfied: trio~=0.17 in c:\\users\\user\\anaconda3\\lib\\site-packages (from selenium) (0.29.0)\n",
      "Requirement already satisfied: trio-websocket~=0.9 in c:\\users\\user\\anaconda3\\lib\\site-packages (from selenium) (0.12.2)\n",
      "Requirement already satisfied: certifi>=2021.10.8 in c:\\users\\user\\anaconda3\\lib\\site-packages (from selenium) (2024.8.30)\n",
      "Requirement already satisfied: typing_extensions~=4.9 in c:\\users\\user\\anaconda3\\lib\\site-packages (from selenium) (4.11.0)\n",
      "Requirement already satisfied: websocket-client~=1.8 in c:\\users\\user\\anaconda3\\lib\\site-packages (from selenium) (1.8.0)\n",
      "Requirement already satisfied: attrs>=23.2.0 in c:\\users\\user\\anaconda3\\lib\\site-packages (from trio~=0.17->selenium) (25.1.0)\n",
      "Requirement already satisfied: sortedcontainers in c:\\users\\user\\anaconda3\\lib\\site-packages (from trio~=0.17->selenium) (2.4.0)\n",
      "Requirement already satisfied: idna in c:\\users\\user\\anaconda3\\lib\\site-packages (from trio~=0.17->selenium) (3.7)\n",
      "Requirement already satisfied: outcome in c:\\users\\user\\anaconda3\\lib\\site-packages (from trio~=0.17->selenium) (1.3.0.post0)\n",
      "Requirement already satisfied: sniffio>=1.3.0 in c:\\users\\user\\anaconda3\\lib\\site-packages (from trio~=0.17->selenium) (1.3.0)\n",
      "Requirement already satisfied: cffi>=1.14 in c:\\users\\user\\anaconda3\\lib\\site-packages (from trio~=0.17->selenium) (1.17.1)\n",
      "Requirement already satisfied: wsproto>=0.14 in c:\\users\\user\\anaconda3\\lib\\site-packages (from trio-websocket~=0.9->selenium) (1.2.0)\n",
      "Requirement already satisfied: pysocks!=1.5.7,<2.0,>=1.5.6 in c:\\users\\user\\anaconda3\\lib\\site-packages (from urllib3[socks]<3,>=1.26->selenium) (1.7.1)\n",
      "Requirement already satisfied: pycparser in c:\\users\\user\\anaconda3\\lib\\site-packages (from cffi>=1.14->trio~=0.17->selenium) (2.21)\n",
      "Requirement already satisfied: h11<1,>=0.9.0 in c:\\users\\user\\anaconda3\\lib\\site-packages (from wsproto>=0.14->trio-websocket~=0.9->selenium) (0.14.0)\n",
      "Note: you may need to restart the kernel to use updated packages.\n"
     ]
    }
   ],
   "source": [
    "pip install selenium"
   ]
  },
  {
   "cell_type": "code",
   "execution_count": 4,
   "id": "0065074d-8e9a-4084-bbc8-c7c20d4e6c30",
   "metadata": {},
   "outputs": [
    {
     "name": "stdout",
     "output_type": "stream",
     "text": [
      "📌 กำลังกรอกฟอร์มครั้งที่ 1/5...\n"
     ]
    },
    {
     "ename": "TimeoutException",
     "evalue": "Message: \nStacktrace:\n\tGetHandleVerifier [0x00007FF6A39FC6A5+28789]\n\t(No symbol) [0x00007FF6A3965B20]\n\t(No symbol) [0x00007FF6A37F8F9A]\n\t(No symbol) [0x00007FF6A384F346]\n\t(No symbol) [0x00007FF6A384F57C]\n\t(No symbol) [0x00007FF6A38A2B17]\n\t(No symbol) [0x00007FF6A387736F]\n\t(No symbol) [0x00007FF6A389F7E3]\n\t(No symbol) [0x00007FF6A3877103]\n\t(No symbol) [0x00007FF6A383FFC0]\n\t(No symbol) [0x00007FF6A3841273]\n\tGetHandleVerifier [0x00007FF6A3D41AED+3458237]\n\tGetHandleVerifier [0x00007FF6A3D5829C+3550316]\n\tGetHandleVerifier [0x00007FF6A3D4DB9D+3507565]\n\tGetHandleVerifier [0x00007FF6A3AC2C6A+841274]\n\t(No symbol) [0x00007FF6A39709EF]\n\t(No symbol) [0x00007FF6A396CB34]\n\t(No symbol) [0x00007FF6A396CCD6]\n\t(No symbol) [0x00007FF6A395C119]\n\tBaseThreadInitThunk [0x00007FF97A6D7344+20]\n\tRtlUserThreadStart [0x00007FF97BD226B1+33]\n",
     "output_type": "error",
     "traceback": [
      "\u001b[1;31m---------------------------------------------------------------------------\u001b[0m",
      "\u001b[1;31mTimeoutException\u001b[0m                          Traceback (most recent call last)",
      "Cell \u001b[1;32mIn[4], line 21\u001b[0m\n\u001b[0;32m     18\u001b[0m time\u001b[38;5;241m.\u001b[39msleep(\u001b[38;5;241m2\u001b[39m)  \u001b[38;5;66;03m# รอให้ฟอร์มโหลด\u001b[39;00m\n\u001b[0;32m     20\u001b[0m \u001b[38;5;66;03m# 🔹 เลือก \"เคย\" ในคำถามที่ 1\u001b[39;00m\n\u001b[1;32m---> 21\u001b[0m question_1 \u001b[38;5;241m=\u001b[39m WebDriverWait(driver, \u001b[38;5;241m10\u001b[39m)\u001b[38;5;241m.\u001b[39muntil(\n\u001b[0;32m     22\u001b[0m     EC\u001b[38;5;241m.\u001b[39melement_to_be_clickable((By\u001b[38;5;241m.\u001b[39mXPATH, \u001b[38;5;124m'\u001b[39m\u001b[38;5;124m//*[@id=\u001b[39m\u001b[38;5;124m\"\u001b[39m\u001b[38;5;124mi5\u001b[39m\u001b[38;5;124m\"\u001b[39m\u001b[38;5;124m]/div[3]/div\u001b[39m\u001b[38;5;124m'\u001b[39m))\n\u001b[0;32m     23\u001b[0m )\n\u001b[0;32m     24\u001b[0m question_1\u001b[38;5;241m.\u001b[39mclick()\n\u001b[0;32m     26\u001b[0m \u001b[38;5;66;03m# 🔹 เลือก \"ไม่เคย\" ในคำถามที่ 2\u001b[39;00m\n",
      "File \u001b[1;32m~\\anaconda3\\Lib\\site-packages\\selenium\\webdriver\\support\\wait.py:146\u001b[0m, in \u001b[0;36mWebDriverWait.until\u001b[1;34m(self, method, message)\u001b[0m\n\u001b[0;32m    144\u001b[0m         \u001b[38;5;28;01mbreak\u001b[39;00m\n\u001b[0;32m    145\u001b[0m     time\u001b[38;5;241m.\u001b[39msleep(\u001b[38;5;28mself\u001b[39m\u001b[38;5;241m.\u001b[39m_poll)\n\u001b[1;32m--> 146\u001b[0m \u001b[38;5;28;01mraise\u001b[39;00m TimeoutException(message, screen, stacktrace)\n",
      "\u001b[1;31mTimeoutException\u001b[0m: Message: \nStacktrace:\n\tGetHandleVerifier [0x00007FF6A39FC6A5+28789]\n\t(No symbol) [0x00007FF6A3965B20]\n\t(No symbol) [0x00007FF6A37F8F9A]\n\t(No symbol) [0x00007FF6A384F346]\n\t(No symbol) [0x00007FF6A384F57C]\n\t(No symbol) [0x00007FF6A38A2B17]\n\t(No symbol) [0x00007FF6A387736F]\n\t(No symbol) [0x00007FF6A389F7E3]\n\t(No symbol) [0x00007FF6A3877103]\n\t(No symbol) [0x00007FF6A383FFC0]\n\t(No symbol) [0x00007FF6A3841273]\n\tGetHandleVerifier [0x00007FF6A3D41AED+3458237]\n\tGetHandleVerifier [0x00007FF6A3D5829C+3550316]\n\tGetHandleVerifier [0x00007FF6A3D4DB9D+3507565]\n\tGetHandleVerifier [0x00007FF6A3AC2C6A+841274]\n\t(No symbol) [0x00007FF6A39709EF]\n\t(No symbol) [0x00007FF6A396CB34]\n\t(No symbol) [0x00007FF6A396CCD6]\n\t(No symbol) [0x00007FF6A395C119]\n\tBaseThreadInitThunk [0x00007FF97A6D7344+20]\n\tRtlUserThreadStart [0x00007FF97BD226B1+33]\n"
     ]
    }
   ],
   "source": [
    "from selenium import webdriver\n",
    "from selenium.webdriver.common.by import By\n",
    "from selenium.webdriver.support.ui import WebDriverWait\n",
    "from selenium.webdriver.support import expected_conditions as EC\n",
    "import time\n",
    "\n",
    "# 🔹 ตั้งค่า WebDriver\n",
    "driver = webdriver.Chrome()\n",
    "\n",
    "# 🔹 URL ของ Google Form (เปลี่ยนให้เป็นของคุณ)\n",
    "form_url = \"https://docs.google.com/forms/d/e/1FAIpQLSdkpDAisSK21BQ2WrSLwaj7biKerp7-2DEUnCnjXBbLC-3JTw/viewform\"\n",
    "num_times = 5  # กำหนดจำนวนครั้งที่ต้องการกรอก\n",
    "\n",
    "for i in range(num_times):\n",
    "    print(f\"📌 กำลังกรอกฟอร์มครั้งที่ {i+1}/{num_times}...\")\n",
    "\n",
    "    driver.get(form_url)\n",
    "    time.sleep(2)  # รอให้ฟอร์มโหลด\n",
    "\n",
    "    # 🔹 เลือก \"เคย\" ในคำถามที่ 1\n",
    "    question_1 = WebDriverWait(driver, 10).until(\n",
    "        EC.element_to_be_clickable((By.XPATH, '//*[@id=\"i5\"]/div[3]/div'))\n",
    "    )\n",
    "    question_1.click()\n",
    "\n",
    "    # 🔹 เลือก \"ไม่เคย\" ในคำถามที่ 2\n",
    "    question_2 = WebDriverWait(driver, 10).until(\n",
    "        EC.element_to_be_clickable((By.XPATH, '//*[@id=\"i11\"]/div[3]/div'))\n",
    "    )\n",
    "    question_2.click()\n",
    "\n",
    "    # 🔹 เลือก \"เคย\" ในคำถามที่ 3\n",
    "    question_3 = WebDriverWait(driver, 10).until(\n",
    "        EC.element_to_be_clickable((By.XPATH, '//*[@id=\"i17\"]/div[3]/div'))\n",
    "    )\n",
    "    question_3.click()\n",
    "\n",
    "    # 🔹 คลิกปุ่มส่ง (Submit)\n",
    "    submit_button = WebDriverWait(driver, 10).until(\n",
    "        EC.element_to_be_clickable((By.XPATH, '//*[@id=\"mG61Hd\"]/div/div/div[3]/div[1]/div[1]/div/span/span'))\n",
    "    )\n",
    "    submit_button.click()\n",
    "\n",
    "    print(f\"✅ ฟอร์มครั้งที่ {i+1} ถูกส่งแล้ว!\")\n",
    "    time.sleep(3)  # รอให้ฟอร์มส่งเสร็จก่อนรอบถัดไป\n",
    "\n",
    "print(\"🎉 กรอกฟอร์มเสร็จเรียบร้อย!\")\n",
    "driver.quit()"
   ]
  },
  {
   "cell_type": "code",
   "execution_count": null,
   "id": "cd7875dc-8b42-43d4-ac51-2dca6eb8a2b1",
   "metadata": {},
   "outputs": [],
   "source": []
  }
 ],
 "metadata": {
  "kernelspec": {
   "display_name": "Python 3 (ipykernel)",
   "language": "python",
   "name": "python3"
  },
  "language_info": {
   "codemirror_mode": {
    "name": "ipython",
    "version": 3
   },
   "file_extension": ".py",
   "mimetype": "text/x-python",
   "name": "python",
   "nbconvert_exporter": "python",
   "pygments_lexer": "ipython3",
   "version": "3.12.7"
  }
 },
 "nbformat": 4,
 "nbformat_minor": 5
}
