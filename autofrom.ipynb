{
 "cells": [
  {
   "cell_type": "code",
   "execution_count": null,
   "id": "b51b289c-a81f-4526-a44b-b2b0c8cedba4",
   "metadata": {},
   "outputs": [],
   "source": [
    "pip install selenium"
   ]
  },
  {
   "cell_type": "code",
   "execution_count": null,
   "id": "0065074d-8e9a-4084-bbc8-c7c20d4e6c30",
   "metadata": {},
   "outputs": [],
   "source": [
    "from selenium import webdriver\n",
    "from selenium.webdriver.common.by import By\n",
    "from selenium.webdriver.support.ui import WebDriverWait\n",
    "from selenium.webdriver.support import expected_conditions as EC\n",
    "import time\n",
    "import random\n",
    "\n",
    "# ✅ ตั้งค่า WebDriver\n",
    "options = webdriver.ChromeOptions()\n",
    "options.add_argument(\"--headless\")  # ทำให้รันแบบไม่มี UI\n",
    "driver = webdriver.Chrome(options=options)\n",
    "\n",
    "# ✅ URL ของ Google Form\n",
    "form_url = \"https://docs.google.com/forms/d/e/1FAIpQLSep87zSFvCr6WnOrIshWtG6oqAPEK0f2P3z4TDJOkDVlAuz1Q/viewform\"\n",
    "\n",
    "# ✅ เปิดฟอร์มและรอโหลด\n",
    "driver.get(form_url)\n",
    "time.sleep(3)\n",
    "\n",
    "# ✅ ดึง XPath ของคำถามอัตโนมัติ\n",
    "questions = driver.find_elements(By.XPATH, \"//div[contains(@class, 'freebirdFormviewerComponentsQuestionBaseRoot')]\")\n",
    "\n",
    "xpath_list = []\n",
    "for i, q in enumerate(questions):\n",
    "    try:\n",
    "        # ดึง XPath ของตัวเลือกแรกในแต่ละคำถาม\n",
    "        option = q.find_element(By.XPATH, \".//div[@role='radio']\")\n",
    "        xpath = option.get_attribute(\"aria-labelledby\")  # ดึง attribute ของ radio button\n",
    "        xpath = f'//*[@id=\"{xpath}\"]/div[3]/div'  # แปลงให้เป็น XPath\n",
    "        xpath_list.append(xpath)\n",
    "        print(f\"✅ คำถาม {i+1}: {xpath}\")  # แสดง XPath ที่ดึงมา\n",
    "    except:\n",
    "        print(f\"⚠️ คำถาม {i+1}: ไม่พบตัวเลือก (อาจเป็นช่องกรอกข้อความ)\")\n",
    "\n",
    "# ✅ กรอกฟอร์ม 100 ครั้ง\n",
    "for i in range(100):\n",
    "    print(f\"📌 กำลังกรอกฟอร์มครั้งที่ {i+1}/100 ...\")\n",
    "    driver.get(form_url)\n",
    "    time.sleep(2)\n",
    "\n",
    "    for xpath in xpath_list:\n",
    "        try:\n",
    "            element = WebDriverWait(driver, 10).until(\n",
    "                EC.element_to_be_clickable((By.XPATH, xpath))\n",
    "            )\n",
    "            element.click()\n",
    "        except Exception as e:\n",
    "            print(f\"❌ Error: {str(e)}\")\n",
    "\n",
    "    # ✅ กดปุ่ม Submit\n",
    "    submit_button = WebDriverWait(driver, 10).until(\n",
    "        EC.element_to_be_clickable((By.XPATH, '//*[@id=\"mG61Hd\"]/div[2]/div/div[3]/div[1]/div[1]/div/span'))\n",
    "    )\n",
    "    submit_button.click()\n",
    "    print(f\"✅ ฟอร์มครั้งที่ {i+1} ถูกส่งแล้ว!\")\n",
    "    time.sleep(3)\n",
    "\n",
    "# ✅ ปิด WebDriver\n",
    "driver.quit()\n",
    "print(\"🎉 กรอกฟอร์มเสร็จเรียบร้อย!\")\n"
   ]
  }
 ],
 "metadata": {
  "kernelspec": {
   "display_name": "base",
   "language": "python",
   "name": "python3"
  },
  "language_info": {
   "codemirror_mode": {
    "name": "ipython",
    "version": 3
   },
   "file_extension": ".py",
   "mimetype": "text/x-python",
   "name": "python",
   "nbconvert_exporter": "python",
   "pygments_lexer": "ipython3",
   "version": "3.12.7"
  }
 },
 "nbformat": 4,
 "nbformat_minor": 5
}
